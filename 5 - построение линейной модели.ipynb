{
 "cells": [
  {
   "cell_type": "code",
   "execution_count": 1,
   "metadata": {
    "scrolled": false
   },
   "outputs": [
    {
     "name": "stderr",
     "output_type": "stream",
     "text": [
      "Warning message:\n",
      "\"package 'gmodels' was built under R version 3.6.3\"\n",
      "Warning message:\n",
      "\"package 'readr' was built under R version 3.6.3\"\n"
     ]
    }
   ],
   "source": [
    "library(gmodels)\n",
    "library(ggplot2)\n",
    "library(readr)\n",
    " "
   ]
  },
  {
   "cell_type": "code",
   "execution_count": 2,
   "metadata": {},
   "outputs": [
    {
     "name": "stderr",
     "output_type": "stream",
     "text": [
      "Warning message:\n",
      "\"package 'leaps' was built under R version 3.6.3\"\n"
     ]
    }
   ],
   "source": [
    " \n",
    "library(leaps)"
   ]
  },
  {
   "cell_type": "markdown",
   "metadata": {},
   "source": [
    "Загрузка и подготовка данных"
   ]
  },
  {
   "cell_type": "code",
   "execution_count": 3,
   "metadata": {},
   "outputs": [],
   "source": [
    "data <- read.csv('data_no_outliers_IQR.csv' , sep =',')"
   ]
  },
  {
   "cell_type": "code",
   "execution_count": 4,
   "metadata": {},
   "outputs": [],
   "source": [
    "for (i in c(\"Mark\",'Location','Fuel_Type', 'Transmission', 'Owner_Type')){\n",
    "    data[,i] <- as.factor(data[,i])\n",
    "}\n",
    "\n",
    "data$SEATS <- as.factor(data$Seats )\n",
    "data$YEAR <- as.factor(data$Year )\n",
    "\n",
    " \n",
    "\n",
    "mil_div <- function(x){\n",
    "    if (x<= 23.85){\n",
    "        return ('First group mlg')\n",
    "    }\n",
    "    if (  x<= 28.5){\n",
    "        return ('Second group mlg')\n",
    "    }\n",
    "    else {\n",
    "        return ('Third group mlg')\n",
    "    }\n",
    "}\n",
    "\n",
    "replacer_Owner_Type <- function(x){\n",
    "     return ( ifelse( x %in% c('Second','Fourth & Above','Third'), 'Second & Above',  'First') )\n",
    "}\n",
    "\n",
    "replacer_fuel_Type <- function(x){\n",
    "     return ( ifelse( x %in% c('LPG','CNG' ), 'OTHER',  x) )\n",
    "}\n",
    "\n",
    "data$Mil_sections <- as.factor( vapply( data$Mileage ,FUN = mil_div , FUN.VALUE = 'First group mlg')  )\n",
    "\n",
    "data$Owner_Type <-  vapply(data$Owner_Type, FUN  = replacer_Owner_Type,'First') \n",
    "data$Fuel_Type  <- vapply(as.character( data$Fuel_Type )  , FUN  = replacer_fuel_Type,'Petrol')"
   ]
  },
  {
   "cell_type": "code",
   "execution_count": 5,
   "metadata": {},
   "outputs": [],
   "source": [
    "data$Year <- NULL\n",
    "#data$Kilometers_Driven <- NULL\n",
    "#data$Mileage <- NULL\n",
    "data$Name <- NULL\n",
    "data$Seats <- NULL\n",
    " "
   ]
  },
  {
   "cell_type": "code",
   "execution_count": null,
   "metadata": {},
   "outputs": [],
   "source": []
  },
  {
   "cell_type": "code",
   "execution_count": 27,
   "metadata": {},
   "outputs": [
    {
     "data": {
      "text/html": [
       "<table class=\"dataframe\">\n",
       "<caption>A data.frame: 5 x 13</caption>\n",
       "<thead>\n",
       "\t<tr><th></th><th scope=col>Mark</th><th scope=col>Location</th><th scope=col>Kilometers_Driven</th><th scope=col>Fuel_Type</th><th scope=col>Transmission</th><th scope=col>Owner_Type</th><th scope=col>Mileage</th><th scope=col>Engine</th><th scope=col>Power</th><th scope=col>Price</th><th scope=col>SEATS</th><th scope=col>YEAR</th><th scope=col>Mil_sections</th></tr>\n",
       "\t<tr><th></th><th scope=col>&lt;fct&gt;</th><th scope=col>&lt;fct&gt;</th><th scope=col>&lt;int&gt;</th><th scope=col>&lt;chr&gt;</th><th scope=col>&lt;fct&gt;</th><th scope=col>&lt;chr&gt;</th><th scope=col>&lt;dbl&gt;</th><th scope=col>&lt;int&gt;</th><th scope=col>&lt;dbl&gt;</th><th scope=col>&lt;dbl&gt;</th><th scope=col>&lt;fct&gt;</th><th scope=col>&lt;fct&gt;</th><th scope=col>&lt;fct&gt;</th></tr>\n",
       "</thead>\n",
       "<tbody>\n",
       "\t<tr><th scope=row>1</th><td>Maruti </td><td>Mumbai    </td><td>72000</td><td>OTHER </td><td>Manual   </td><td>First         </td><td>37.24</td><td> 998</td><td> 58.16</td><td> 1.75</td><td>5</td><td>2010</td><td>Third group mlg</td></tr>\n",
       "\t<tr><th scope=row>2</th><td>Hyundai</td><td>Pune      </td><td>41000</td><td>Diesel</td><td>Manual   </td><td>First         </td><td>19.67</td><td>1582</td><td>126.20</td><td>12.50</td><td>5</td><td>2015</td><td>First group mlg</td></tr>\n",
       "\t<tr><th scope=row>3</th><td>Honda  </td><td>Chennai   </td><td>46000</td><td>Petrol</td><td>Manual   </td><td>First         </td><td>18.20</td><td>1199</td><td> 88.70</td><td> 4.50</td><td>5</td><td>2011</td><td>First group mlg</td></tr>\n",
       "\t<tr><th scope=row>4</th><td>Maruti </td><td>Chennai   </td><td>87000</td><td>Diesel</td><td>Manual   </td><td>First         </td><td>20.77</td><td>1248</td><td> 88.76</td><td> 6.00</td><td>7</td><td>2012</td><td>First group mlg</td></tr>\n",
       "\t<tr><th scope=row>5</th><td><span style=white-space:pre-wrap>Audi   </span></td><td>Coimbatore</td><td>40670</td><td>Diesel</td><td>Automatic</td><td>Second &amp; Above</td><td>15.20</td><td>1968</td><td>140.80</td><td>17.74</td><td>5</td><td>2013</td><td>First group mlg</td></tr>\n",
       "</tbody>\n",
       "</table>\n"
      ],
      "text/latex": [
       "A data.frame: 5 x 13\n",
       "\\begin{tabular}{r|lllllllllllll}\n",
       "  & Mark & Location & Kilometers\\_Driven & Fuel\\_Type & Transmission & Owner\\_Type & Mileage & Engine & Power & Price & SEATS & YEAR & Mil\\_sections\\\\\n",
       "  & <fct> & <fct> & <int> & <chr> & <fct> & <chr> & <dbl> & <int> & <dbl> & <dbl> & <fct> & <fct> & <fct>\\\\\n",
       "\\hline\n",
       "\t1 & Maruti  & Mumbai     & 72000 & OTHER  & Manual    & First          & 37.24 &  998 &  58.16 &  1.75 & 5 & 2010 & Third group mlg\\\\\n",
       "\t2 & Hyundai & Pune       & 41000 & Diesel & Manual    & First          & 19.67 & 1582 & 126.20 & 12.50 & 5 & 2015 & First group mlg\\\\\n",
       "\t3 & Honda   & Chennai    & 46000 & Petrol & Manual    & First          & 18.20 & 1199 &  88.70 &  4.50 & 5 & 2011 & First group mlg\\\\\n",
       "\t4 & Maruti  & Chennai    & 87000 & Diesel & Manual    & First          & 20.77 & 1248 &  88.76 &  6.00 & 7 & 2012 & First group mlg\\\\\n",
       "\t5 & Audi    & Coimbatore & 40670 & Diesel & Automatic & Second \\& Above & 15.20 & 1968 & 140.80 & 17.74 & 5 & 2013 & First group mlg\\\\\n",
       "\\end{tabular}\n"
      ],
      "text/markdown": [
       "\n",
       "A data.frame: 5 x 13\n",
       "\n",
       "| <!--/--> | Mark &lt;fct&gt; | Location &lt;fct&gt; | Kilometers_Driven &lt;int&gt; | Fuel_Type &lt;chr&gt; | Transmission &lt;fct&gt; | Owner_Type &lt;chr&gt; | Mileage &lt;dbl&gt; | Engine &lt;int&gt; | Power &lt;dbl&gt; | Price &lt;dbl&gt; | SEATS &lt;fct&gt; | YEAR &lt;fct&gt; | Mil_sections &lt;fct&gt; |\n",
       "|---|---|---|---|---|---|---|---|---|---|---|---|---|---|\n",
       "| 1 | Maruti  | Mumbai     | 72000 | OTHER  | Manual    | First          | 37.24 |  998 |  58.16 |  1.75 | 5 | 2010 | Third group mlg |\n",
       "| 2 | Hyundai | Pune       | 41000 | Diesel | Manual    | First          | 19.67 | 1582 | 126.20 | 12.50 | 5 | 2015 | First group mlg |\n",
       "| 3 | Honda   | Chennai    | 46000 | Petrol | Manual    | First          | 18.20 | 1199 |  88.70 |  4.50 | 5 | 2011 | First group mlg |\n",
       "| 4 | Maruti  | Chennai    | 87000 | Diesel | Manual    | First          | 20.77 | 1248 |  88.76 |  6.00 | 7 | 2012 | First group mlg |\n",
       "| 5 | Audi    | Coimbatore | 40670 | Diesel | Automatic | Second &amp; Above | 15.20 | 1968 | 140.80 | 17.74 | 5 | 2013 | First group mlg |\n",
       "\n"
      ],
      "text/plain": [
       "  Mark    Location   Kilometers_Driven Fuel_Type Transmission Owner_Type    \n",
       "1 Maruti  Mumbai     72000             OTHER     Manual       First         \n",
       "2 Hyundai Pune       41000             Diesel    Manual       First         \n",
       "3 Honda   Chennai    46000             Petrol    Manual       First         \n",
       "4 Maruti  Chennai    87000             Diesel    Manual       First         \n",
       "5 Audi    Coimbatore 40670             Diesel    Automatic    Second & Above\n",
       "  Mileage Engine Power  Price SEATS YEAR Mil_sections   \n",
       "1 37.24    998    58.16  1.75 5     2010 Third group mlg\n",
       "2 19.67   1582   126.20 12.50 5     2015 First group mlg\n",
       "3 18.20   1199    88.70  4.50 5     2011 First group mlg\n",
       "4 20.77   1248    88.76  6.00 7     2012 First group mlg\n",
       "5 15.20   1968   140.80 17.74 5     2013 First group mlg"
      ]
     },
     "metadata": {},
     "output_type": "display_data"
    }
   ],
   "source": [
    "head(data , 5)"
   ]
  },
  {
   "cell_type": "markdown",
   "metadata": {},
   "source": [
    "Линейная модель будет включать в себя числовой признак Power , категориальные признаки,  числовой признак Engine, взаимодейсвия числовых признаков. Взаимодействия категориальных признаков включить в линейную модель не удастся, так как не все комбинации их значений присутствуют в наборе данных.  "
   ]
  },
  {
   "cell_type": "markdown",
   "metadata": {},
   "source": [
    "Сначала посмотрим модель со всеми признаками."
   ]
  },
  {
   "cell_type": "code",
   "execution_count": 29,
   "metadata": {},
   "outputs": [],
   "source": [
    "cat_cols <- colnames(data)[ !(colnames(data) %in% c('Kilometers_Driven', 'Mileage' ,'Engine' , 'Power' , 'Price') )]\n",
    "num_cols <- c('Kilometers_Driven', 'Mileage' ,'Engine' , 'Power')"
   ]
  },
  {
   "cell_type": "code",
   "execution_count": 30,
   "metadata": {},
   "outputs": [
    {
     "data": {
      "text/html": [
       "<style>\n",
       ".list-inline {list-style: none; margin:0; padding: 0}\n",
       ".list-inline>li {display: inline-block}\n",
       ".list-inline>li:not(:last-child)::after {content: \"\\00b7\"; padding: 0 .5ex}\n",
       "</style>\n",
       "<ol class=list-inline><li>'Mark'</li><li>'Location'</li><li>'Fuel_Type'</li><li>'Transmission'</li><li>'Owner_Type'</li><li>'SEATS'</li><li>'YEAR'</li><li>'Mil_sections'</li></ol>\n"
      ],
      "text/latex": [
       "\\begin{enumerate*}\n",
       "\\item 'Mark'\n",
       "\\item 'Location'\n",
       "\\item 'Fuel\\_Type'\n",
       "\\item 'Transmission'\n",
       "\\item 'Owner\\_Type'\n",
       "\\item 'SEATS'\n",
       "\\item 'YEAR'\n",
       "\\item 'Mil\\_sections'\n",
       "\\end{enumerate*}\n"
      ],
      "text/markdown": [
       "1. 'Mark'\n",
       "2. 'Location'\n",
       "3. 'Fuel_Type'\n",
       "4. 'Transmission'\n",
       "5. 'Owner_Type'\n",
       "6. 'SEATS'\n",
       "7. 'YEAR'\n",
       "8. 'Mil_sections'\n",
       "\n",
       "\n"
      ],
      "text/plain": [
       "[1] \"Mark\"         \"Location\"     \"Fuel_Type\"    \"Transmission\" \"Owner_Type\"  \n",
       "[6] \"SEATS\"        \"YEAR\"         \"Mil_sections\""
      ]
     },
     "metadata": {},
     "output_type": "display_data"
    }
   ],
   "source": [
    "cat_cols"
   ]
  },
  {
   "cell_type": "code",
   "execution_count": 31,
   "metadata": {},
   "outputs": [],
   "source": [
    "# части формулы - часть категориальных признаков и часть числовых признаков и их взаимодействий\n",
    "cat_part <- paste(cat_cols ,  collapse= ' + ') \n",
    "num_part <- paste( '(', paste(num_cols  ,   collapse= '+') , ')^4')"
   ]
  },
  {
   "cell_type": "code",
   "execution_count": 32,
   "metadata": {},
   "outputs": [],
   "source": [
    "formula_ <- paste( ' log(Price)  ~ ' , cat_part, ' + ',num_part  ,sep = ' ')"
   ]
  },
  {
   "cell_type": "code",
   "execution_count": 33,
   "metadata": {},
   "outputs": [
    {
     "data": {
      "text/html": [
       "<span style=white-space:pre-wrap>' log(Price)  ~  Mark + Location + Fuel_Type + Transmission + Owner_Type + SEATS + YEAR + Mil_sections  +  ( Kilometers_Driven+Mileage+Engine+Power )^4'</span>"
      ],
      "text/latex": [
       "' log(Price)  \\textasciitilde{}  Mark + Location + Fuel\\_Type + Transmission + Owner\\_Type + SEATS + YEAR + Mil\\_sections  +  ( Kilometers\\_Driven+Mileage+Engine+Power )\\textasciicircum{}4'"
      ],
      "text/markdown": [
       "<span style=white-space:pre-wrap>' log(Price)  ~  Mark + Location + Fuel_Type + Transmission + Owner_Type + SEATS + YEAR + Mil_sections  +  ( Kilometers_Driven+Mileage+Engine+Power )^4'</span>"
      ],
      "text/plain": [
       "[1] \" log(Price)  ~  Mark + Location + Fuel_Type + Transmission + Owner_Type + SEATS + YEAR + Mil_sections  +  ( Kilometers_Driven+Mileage+Engine+Power )^4\""
      ]
     },
     "metadata": {},
     "output_type": "display_data"
    }
   ],
   "source": [
    "formula_ "
   ]
  },
  {
   "cell_type": "code",
   "execution_count": 34,
   "metadata": {},
   "outputs": [],
   "source": [
    "# создание линейной модели\n",
    "lm_all <- lm(  formula=formula_ , data = data )\n",
    " "
   ]
  },
  {
   "cell_type": "code",
   "execution_count": 35,
   "metadata": {},
   "outputs": [],
   "source": [
    "# сводная статистика по модели\n",
    "lm_all_summary <- summary(lm_all)"
   ]
  },
  {
   "cell_type": "code",
   "execution_count": 23,
   "metadata": {},
   "outputs": [
    {
     "data": {
      "text/plain": [
       "\n",
       "Call:\n",
       "lm(formula = formula_, data = data)\n",
       "\n",
       "Residuals:\n",
       "     Min       1Q   Median       3Q      Max \n",
       "-1.57846 -0.11506  0.00661  0.12958  1.45095 \n",
       "\n",
       "Coefficients:\n",
       "                                         Estimate Std. Error t value Pr(>|t|)\n",
       "(Intercept)                            -1.323e+00  3.121e-01  -4.239 2.29e-05\n",
       "MarkAudi                                3.639e-01  2.140e-01   1.700 0.089199\n",
       "MarkBMW                                 2.377e-01  2.140e-01   1.111 0.266605\n",
       "MarkChevrolet                          -5.080e-01  2.132e-01  -2.382 0.017255\n",
       "MarkDatsun                             -5.340e-01  2.203e-01  -2.424 0.015369\n",
       "MarkFiat                               -4.219e-01  2.164e-01  -1.949 0.051315\n",
       "MarkForce                              -1.236e-01  2.436e-01  -0.507 0.612032\n",
       "MarkFord                               -2.870e-01  2.126e-01  -1.350 0.177101\n",
       "MarkHonda                              -2.250e-01  2.128e-01  -1.057 0.290428\n",
       "MarkHyundai                            -2.114e-01  2.125e-01  -0.995 0.319898\n",
       "MarkIsuzu                              -4.251e-01  2.568e-01  -1.655 0.097921\n",
       "MarkJaguar                              7.476e-02  2.603e-01   0.287 0.773949\n",
       "MarkJeep                               -5.005e-02  2.219e-01  -0.226 0.821544\n",
       "MarkLand                                5.487e-01  2.204e-01   2.490 0.012823\n",
       "MarkMahindra                           -3.620e-01  2.131e-01  -1.698 0.089503\n",
       "MarkMaruti                             -1.633e-01  2.125e-01  -0.768 0.442228\n",
       "MarkMercedes-Benz                       3.235e-01  2.137e-01   1.514 0.130119\n",
       "MarkMini                                5.870e-01  2.585e-01   2.271 0.023197\n",
       "MarkMitsubishi                         -7.236e-03  2.168e-01  -0.033 0.973375\n",
       "MarkNissan                             -2.303e-01  2.136e-01  -1.078 0.281020\n",
       "MarkPorsche                            -1.163e+00  2.808e-01  -4.141 3.52e-05\n",
       "MarkRenault                            -2.090e-01  2.130e-01  -0.981 0.326506\n",
       "MarkSkoda                              -1.632e-01  2.132e-01  -0.766 0.444005\n",
       "MarkTata                               -5.919e-01  2.130e-01  -2.779 0.005466\n",
       "MarkToyota                             -8.167e-03  2.128e-01  -0.038 0.969381\n",
       "MarkVolkswagen                         -2.217e-01  2.126e-01  -1.043 0.297148\n",
       "MarkVolvo                               1.498e-01  2.220e-01   0.675 0.499713\n",
       "LocationBangalore                       1.455e-01  1.925e-02   7.561 4.71e-14\n",
       "LocationChennai                         1.616e-02  1.767e-02   0.914 0.360707\n",
       "LocationCoimbatore                      1.278e-01  1.744e-02   7.328 2.70e-13\n",
       "LocationDelhi                          -1.015e-01  1.715e-02  -5.916 3.51e-09\n",
       "LocationHyderabad                       9.776e-02  1.668e-02   5.860 4.92e-09\n",
       "LocationJaipur                         -5.817e-02  1.791e-02  -3.248 0.001171\n",
       "LocationKochi                          -1.980e-02  1.713e-02  -1.156 0.247834\n",
       "LocationKolkata                        -2.358e-01  1.710e-02 -13.786  < 2e-16\n",
       "LocationMumbai                         -6.803e-02  1.649e-02  -4.126 3.74e-05\n",
       "LocationPune                           -5.469e-02  1.689e-02  -3.239 0.001209\n",
       "Fuel_TypeOTHER                         -2.250e-01  5.013e-02  -4.487 7.37e-06\n",
       "Fuel_TypePetrol                        -1.889e-01  1.093e-02 -17.286  < 2e-16\n",
       "TransmissionManual                     -8.987e-02  9.425e-03  -9.535  < 2e-16\n",
       "Owner_TypeSecond & Above               -7.222e-02  8.179e-03  -8.830  < 2e-16\n",
       "SEATS5                                  2.246e-02  3.231e-02   0.695 0.487027\n",
       "SEATS6                                  6.654e-02  5.789e-02   1.149 0.250461\n",
       "SEATS7                                  1.559e-01  3.557e-02   4.383 1.19e-05\n",
       "SEATS8                                  1.682e-01  4.035e-02   4.168 3.13e-05\n",
       "SEATS9                                  1.621e-03  1.243e-01   0.013 0.989591\n",
       "SEATS10                                 2.499e-01  1.098e-01   2.276 0.022859\n",
       "YEAR1999                                2.930e-01  1.862e-01   1.573 0.115744\n",
       "YEAR2000                                3.726e-01  1.570e-01   2.374 0.017649\n",
       "YEAR2001                                2.347e-01  1.567e-01   1.498 0.134315\n",
       "YEAR2002                                4.655e-01  1.336e-01   3.484 0.000498\n",
       "YEAR2003                                4.709e-01  1.311e-01   3.593 0.000330\n",
       "YEAR2004                                5.930e-01  1.250e-01   4.746 2.13e-06\n",
       "YEAR2005                                4.284e-01  1.223e-01   3.504 0.000462\n",
       "YEAR2006                                7.802e-01  1.208e-01   6.457 1.17e-10\n",
       "YEAR2007                                9.027e-01  1.199e-01   7.531 5.92e-14\n",
       "YEAR2008                                9.785e-01  1.193e-01   8.199 3.03e-16\n",
       "YEAR2009                                1.105e+00  1.192e-01   9.275  < 2e-16\n",
       "YEAR2010                                1.205e+00  1.188e-01  10.142  < 2e-16\n",
       "YEAR2011                                1.324e+00  1.187e-01  11.151  < 2e-16\n",
       "YEAR2012                                1.468e+00  1.188e-01  12.359  < 2e-16\n",
       "YEAR2013                                1.578e+00  1.188e-01  13.285  < 2e-16\n",
       "YEAR2014                                1.696e+00  1.188e-01  14.282  < 2e-16\n",
       "YEAR2015                                1.810e+00  1.188e-01  15.228  < 2e-16\n",
       "YEAR2016                                1.906e+00  1.189e-01  16.022  < 2e-16\n",
       "YEAR2017                                2.019e+00  1.191e-01  16.955  < 2e-16\n",
       "YEAR2018                                2.110e+00  1.196e-01  17.646  < 2e-16\n",
       "YEAR2019                                2.081e+00  1.216e-01  17.118  < 2e-16\n",
       "Mil_sectionsSecond group mlg           -5.674e-02  1.318e-02  -4.305 1.70e-05\n",
       "Mil_sectionsThird group mlg             1.256e-01  6.927e-02   1.813 0.069852\n",
       "Kilometers_Driven                       8.685e-06  2.635e-06   3.296 0.000989\n",
       "Mileage                                -1.097e-02  9.655e-03  -1.136 0.256083\n",
       "Engine                                  5.494e-04  1.311e-04   4.190 2.84e-05\n",
       "Power                                   1.370e-02  2.314e-03   5.921 3.41e-09\n",
       "Kilometers_Driven:Mileage              -2.473e-07  1.491e-07  -1.659 0.097179\n",
       "Kilometers_Driven:Engine               -1.089e-09  1.718e-09  -0.634 0.526196\n",
       "Kilometers_Driven:Power                -1.463e-07  3.172e-08  -4.613 4.07e-06\n",
       "Mileage:Engine                          8.905e-06  8.266e-06   1.077 0.281410\n",
       "Mileage:Power                           3.389e-04  1.445e-04   2.345 0.019059\n",
       "Engine:Power                           -1.796e-06  9.021e-07  -1.992 0.046475\n",
       "Kilometers_Driven:Mileage:Engine       -8.299e-11  1.171e-10  -0.709 0.478612\n",
       "Kilometers_Driven:Mileage:Power         4.036e-09  2.057e-09   1.962 0.049818\n",
       "Kilometers_Driven:Engine:Power          3.360e-11  1.294e-11   2.597 0.009440\n",
       "Mileage:Engine:Power                   -2.788e-07  6.239e-08  -4.469 8.04e-06\n",
       "Kilometers_Driven:Mileage:Engine:Power  2.414e-13  9.372e-13   0.258 0.796738\n",
       "                                          \n",
       "(Intercept)                            ***\n",
       "MarkAudi                               .  \n",
       "MarkBMW                                   \n",
       "MarkChevrolet                          *  \n",
       "MarkDatsun                             *  \n",
       "MarkFiat                               .  \n",
       "MarkForce                                 \n",
       "MarkFord                                  \n",
       "MarkHonda                                 \n",
       "MarkHyundai                               \n",
       "MarkIsuzu                              .  \n",
       "MarkJaguar                                \n",
       "MarkJeep                                  \n",
       "MarkLand                               *  \n",
       "MarkMahindra                           .  \n",
       "MarkMaruti                                \n",
       "MarkMercedes-Benz                         \n",
       "MarkMini                               *  \n",
       "MarkMitsubishi                            \n",
       "MarkNissan                                \n",
       "MarkPorsche                            ***\n",
       "MarkRenault                               \n",
       "MarkSkoda                                 \n",
       "MarkTata                               ** \n",
       "MarkToyota                                \n",
       "MarkVolkswagen                            \n",
       "MarkVolvo                                 \n",
       "LocationBangalore                      ***\n",
       "LocationChennai                           \n",
       "LocationCoimbatore                     ***\n",
       "LocationDelhi                          ***\n",
       "LocationHyderabad                      ***\n",
       "LocationJaipur                         ** \n",
       "LocationKochi                             \n",
       "LocationKolkata                        ***\n",
       "LocationMumbai                         ***\n",
       "LocationPune                           ** \n",
       "Fuel_TypeOTHER                         ***\n",
       "Fuel_TypePetrol                        ***\n",
       "TransmissionManual                     ***\n",
       "Owner_TypeSecond & Above               ***\n",
       "SEATS5                                    \n",
       "SEATS6                                    \n",
       "SEATS7                                 ***\n",
       "SEATS8                                 ***\n",
       "SEATS9                                    \n",
       "SEATS10                                *  \n",
       "YEAR1999                                  \n",
       "YEAR2000                               *  \n",
       "YEAR2001                                  \n",
       "YEAR2002                               ***\n",
       "YEAR2003                               ***\n",
       "YEAR2004                               ***\n",
       "YEAR2005                               ***\n",
       "YEAR2006                               ***\n",
       "YEAR2007                               ***\n",
       "YEAR2008                               ***\n",
       "YEAR2009                               ***\n",
       "YEAR2010                               ***\n",
       "YEAR2011                               ***\n",
       "YEAR2012                               ***\n",
       "YEAR2013                               ***\n",
       "YEAR2014                               ***\n",
       "YEAR2015                               ***\n",
       "YEAR2016                               ***\n",
       "YEAR2017                               ***\n",
       "YEAR2018                               ***\n",
       "YEAR2019                               ***\n",
       "Mil_sectionsSecond group mlg           ***\n",
       "Mil_sectionsThird group mlg            .  \n",
       "Kilometers_Driven                      ***\n",
       "Mileage                                   \n",
       "Engine                                 ***\n",
       "Power                                  ***\n",
       "Kilometers_Driven:Mileage              .  \n",
       "Kilometers_Driven:Engine                  \n",
       "Kilometers_Driven:Power                ***\n",
       "Mileage:Engine                            \n",
       "Mileage:Power                          *  \n",
       "Engine:Power                           *  \n",
       "Kilometers_Driven:Mileage:Engine          \n",
       "Kilometers_Driven:Mileage:Power        *  \n",
       "Kilometers_Driven:Engine:Power         ** \n",
       "Mileage:Engine:Power                   ***\n",
       "Kilometers_Driven:Mileage:Engine:Power    \n",
       "---\n",
       "Signif. codes:  0 '***' 0.001 '**' 0.01 '*' 0.05 '.' 0.1 ' ' 1\n",
       "\n",
       "Residual standard error: 0.2035 on 5075 degrees of freedom\n",
       "Multiple R-squared:  0.9024,\tAdjusted R-squared:  0.9008 \n",
       "F-statistic: 558.5 on 84 and 5075 DF,  p-value: < 2.2e-16\n"
      ]
     },
     "metadata": {},
     "output_type": "display_data"
    }
   ],
   "source": [
    "#вывод статистики ( можно скрыть \\ развернуть)\n",
    "lm_all_summary"
   ]
  },
  {
   "cell_type": "markdown",
   "metadata": {},
   "source": [
    "Сначала посмотрим исправленный коэффициент детерминации модели со всеми признаками."
   ]
  },
  {
   "cell_type": "code",
   "execution_count": 213,
   "metadata": {},
   "outputs": [
    {
     "data": {
      "text/html": [
       "0.900774328133993"
      ],
      "text/latex": [
       "0.900774328133993"
      ],
      "text/markdown": [
       "0.900774328133993"
      ],
      "text/plain": [
       "[1] 0.9007743"
      ]
     },
     "metadata": {},
     "output_type": "display_data"
    }
   ],
   "source": [
    "#исправленный коэффициент детерминации\n",
    "lm_all_summary$adj.r.squared "
   ]
  },
  {
   "cell_type": "markdown",
   "metadata": {},
   "source": [
    "Исправленный коэффициент детерминации равен 0.9 -  отличный  результат для линейной модели"
   ]
  },
  {
   "cell_type": "markdown",
   "metadata": {},
   "source": [
    "Значение F статистики указывает на высокую степень связи модели с данными"
   ]
  },
  {
   "cell_type": "markdown",
   "metadata": {},
   "source": [
    "Посмотрим на гистограмму распредления остатков и проверим нормальность распределения остатков"
   ]
  },
  {
   "cell_type": "code",
   "execution_count": 214,
   "metadata": {},
   "outputs": [
    {
     "data": {
      "image/png": "[encoded data removed]",
      "text/plain": [
       "Plot with title \"Гистограмма распредления остатков\n",
       "линейной модели\""
      ]
     },
     "metadata": {
      "image/png": {
       "height": 420,
       "width": 420
      }
     },
     "output_type": "display_data"
    }
   ],
   "source": [
    "hist( lm_all_summary$residuals , main = 'Гистограмма распредления остатков\\nлинейной модели', xlab = 'Остатки линейной модели')"
   ]
  },
  {
   "cell_type": "markdown",
   "metadata": {},
   "source": [
    "График QQ-Plot для остатков"
   ]
  },
  {
   "cell_type": "code",
   "execution_count": 189,
   "metadata": {},
   "outputs": [
    {
     "data": {
      "image/png": "[encoded data removed]",
      "text/plain": [
       "Plot with title \"Normal Q-Q Plot\""
      ]
     },
     "metadata": {
      "image/png": {
       "height": 420,
       "width": 420
      }
     },
     "output_type": "display_data"
    }
   ],
   "source": [
    "qqnorm( lm_all_summary$residuals )\n",
    "qqline( lm_all_summary$residuals )"
   ]
  },
  {
   "cell_type": "markdown",
   "metadata": {},
   "source": [
    "Проверка остатков на нормальность распределения тестом Колмогорова-Смирнова"
   ]
  },
  {
   "cell_type": "code",
   "execution_count": 190,
   "metadata": {},
   "outputs": [
    {
     "name": "stderr",
     "output_type": "stream",
     "text": [
      "Warning message in ks.test(lm_all_summary$residuals, \"pnorm\"):\n",
      "\"ties should not be present for the Kolmogorov-Smirnov test\"\n"
     ]
    },
    {
     "data": {
      "text/plain": [
       "\n",
       "\tOne-sample Kolmogorov-Smirnov test\n",
       "\n",
       "data:  lm_all_summary$residuals\n",
       "D = 0.33385, p-value < 2.2e-16\n",
       "alternative hypothesis: two-sided\n"
      ]
     },
     "metadata": {},
     "output_type": "display_data"
    }
   ],
   "source": [
    "ks.test(lm_all_summary$residuals, 'pnorm')"
   ]
  },
  {
   "cell_type": "markdown",
   "metadata": {},
   "source": [
    "Тест Колмогорова-Смирнова показал, что остатки распределены ненормально"
   ]
  },
  {
   "cell_type": "markdown",
   "metadata": {},
   "source": [
    "ВЫВОДЫ:"
   ]
  },
  {
   "cell_type": "markdown",
   "metadata": {},
   "source": [
    "Линейная модель содержит следующие признаки, влияющие на логарифм цены:\n",
    "* Категориальные\n",
    "    - Mark\n",
    "    - Location\n",
    "    - Fuel_Type\n",
    "    - Transmission\n",
    "    - Owner_Type\n",
    "    - SEATS\n",
    "    - YEAR\n",
    "    - Mil_sections\n",
    "* Числовые \n",
    "    - Mileage * Engine * Power\n",
    "    - Mileage * Engine * Power\n",
    "    - Kilometers_Driven * Mileage*Power      \n",
    "    - Kilometers_Driven * Engine * Power        \n",
    "    - Mileage * Engine * Power \n",
    "    - Mileage * Power                        \n",
    "    - Engine * Power  \n",
    "    - Kilometers_Driven * Power\n",
    "    - Engine                                  \n",
    "    - Power\n",
    "    - Kilometers_Driven\n",
    "   \n",
    "Из вышеприведенного следует, что на цену влияют числовые признаки и их взаимодействия. Поскольку зависимая переменная логарифмирована, то коэффициенты при числовых признаках показывают, на сколько процентов меняется цена при изменении признака на единицу.\n",
    "\n",
    "Например, коэффициент при Power равен 0.0137. Тогда при изменении признака на единицу цена изменится на\n",
    "$$(exp{(0.0137)}-1)\\times100\\% \\approx 1.379\\%$$. \n",
    "\n",
    "Данная модель объясняет 90% дисперсии в данных (Исправленный коэффициент равен 0.9)."
   ]
  },
  {
   "cell_type": "code",
   "execution_count": null,
   "metadata": {},
   "outputs": [],
   "source": []
  }
 ],
 "metadata": {
  "kernelspec": {
   "display_name": "R",
   "language": "R",
   "name": "ir"
  },
  "language_info": {
   "codemirror_mode": "r",
   "file_extension": ".r",
   "mimetype": "text/x-r-source",
   "name": "R",
   "pygments_lexer": "r",
   "version": "3.6.1"
  }
 },
 "nbformat": 4,
 "nbformat_minor": 4
}
